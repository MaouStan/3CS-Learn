{
  "cells": [
    {
      "cell_type": "code",
      "execution_count": 241,
      "metadata": {},
      "outputs": [],
      "source": [
        "from math import exp\n",
        "from random import seed, random"
      ]
    },
    {
      "cell_type": "code",
      "execution_count": 242,
      "metadata": {},
      "outputs": [],
      "source": [
        "# Initialize a network\n",
        "def initialize_network(n_inputs, n_hidden, n_outputs):\n",
        "  network = list()\n",
        "  hidden_layer = [{'weights': [random() for i in range(n_inputs + 1)]} for i in range(n_hidden)]\n",
        "  network.append(hidden_layer)\n",
        "  output_layer = [{'weights': [random() for i in range(n_hidden + 1)]} for i in range(n_outputs)]\n",
        "  network.append(output_layer)\n",
        "  return network"
      ]
    },
    {
      "cell_type": "code",
      "execution_count": 243,
      "metadata": {},
      "outputs": [],
      "source": [
        "# Calculate neuron activation for an input\n",
        "def activate(weights, inputs):\n",
        "  activation = weights[-1]\n",
        "  for i in range(len(weights)-1):\n",
        "    activation += weights[i] * inputs[i]\n",
        "  return activation"
      ]
    },
    {
      "cell_type": "code",
      "execution_count": 244,
      "metadata": {},
      "outputs": [],
      "source": [
        "# Transfer neuron activation\n",
        "def transfer(activation):\n",
        "  return 1.0 / (1.0 + exp(-activation))"
      ]
    },
    {
      "cell_type": "code",
      "execution_count": 245,
      "metadata": {},
      "outputs": [],
      "source": [
        "# Forward propagate input to a network output\n",
        "def forward_propagate(network, row):\n",
        "  inputs = row\n",
        "  for layer in network:\n",
        "    new_inputs = []\n",
        "    for neuron in layer:\n",
        "      activation = activate(neuron['weights'], inputs)\n",
        "      neuron['output'] = transfer(activation)\n",
        "      new_inputs.append(neuron['output'])\n",
        "    inputs = new_inputs\n",
        "  return inputs"
      ]
    },
    {
      "cell_type": "code",
      "execution_count": 246,
      "metadata": {},
      "outputs": [],
      "source": [
        "# Calculate the derivative of an neuron output\n",
        "def transfer_derivative(output):\n",
        "  return output * (1.0 - output)"
      ]
    },
    {
      "cell_type": "code",
      "execution_count": 247,
      "metadata": {},
      "outputs": [],
      "source": [
        "# Backpropagate error and store in neurons\n",
        "def backward_propagate_error(network, expected):\n",
        "  for i in reversed(range(len(network))):\n",
        "    layer = network[i]\n",
        "    errors = list()\n",
        "    if i != len(network)-1:\n",
        "      for j in range(len(layer)):\n",
        "        error = 0.0\n",
        "        for neuron in network[i + 1]:\n",
        "          error += (neuron['weights'][j] * neuron['delta'])\n",
        "        errors.append(error)\n",
        "    else:\n",
        "      for j in range(len(layer)):\n",
        "        neuron = layer[j]\n",
        "        errors.append(neuron['output'] - expected[j])\n",
        "    for j in range(len(layer)):\n",
        "      neuron = layer[j]\n",
        "      neuron['delta'] = errors[j] * transfer_derivative(neuron['output'])"
      ]
    },
    {
      "cell_type": "code",
      "execution_count": 248,
      "metadata": {},
      "outputs": [],
      "source": [
        "# Update network weights with error\n",
        "def update_weights(network, row, l_rate):\n",
        "  for i in range(len(network)):\n",
        "    inputs = row[:-1]\n",
        "    if i != 0:\n",
        "      inputs = [neuron['output'] for neuron in network[i - 1]]\n",
        "    for neuron in network[i]:\n",
        "      for j in range(len(inputs)):\n",
        "        neuron['weights'][j] -= l_rate * neuron['delta'] * inputs[j]\n",
        "      neuron['weights'][-1] -= l_rate * neuron['delta']"
      ]
    },
    {
      "cell_type": "code",
      "execution_count": 249,
      "metadata": {},
      "outputs": [],
      "source": [
        "# Train a network for a fixed number of epochs\n",
        "def train_network(network, train, l_rate, n_epoch, n_outputs):\n",
        "  for epoch in range(n_epoch):\n",
        "    sum_error = 0\n",
        "    for row in train:\n",
        "      outputs = forward_propagate(network, row)\n",
        "      expected = [0 for i in range(n_outputs)]\n",
        "      expected[row[-1]] = 1\n",
        "      sum_error += sum([(expected[i]-outputs[i])**2 for i in range(len(expected))])\n",
        "      backward_propagate_error(network, expected)\n",
        "      update_weights(network, row, l_rate)\n",
        "    print('>epoch=%d, lrate=%.3f, error=%.3f' % (epoch, l_rate, sum_error))"
      ]
    },
    {
      "cell_type": "code",
      "execution_count": 250,
      "metadata": {
        "colab": {
          "base_uri": "https://localhost:8080/"
        },
        "id": "kA_4eLkEnv_W",
        "outputId": "ad04c463-2176-4be4-f317-90b04640aca1"
      },
      "outputs": [
        {
          "name": "stdout",
          "output_type": "stream",
          "text": [
            ">epoch=0, lrate=0.500, error=6.350\n",
            ">epoch=1, lrate=0.500, error=5.531\n",
            ">epoch=2, lrate=0.500, error=5.221\n",
            ">epoch=3, lrate=0.500, error=4.951\n",
            ">epoch=4, lrate=0.500, error=4.519\n",
            ">epoch=5, lrate=0.500, error=4.173\n",
            ">epoch=6, lrate=0.500, error=3.835\n",
            ">epoch=7, lrate=0.500, error=3.506\n",
            ">epoch=8, lrate=0.500, error=3.192\n",
            ">epoch=9, lrate=0.500, error=2.898\n",
            "[{'weights': [-1.1170216470805576, 1.1791237374797112, 0.8420213934082419], 'output': 0.03452080505590438, 'delta': 0.007247947090366351}, {'weights': [0.17749791431009276, 0.2437291085458735, 0.36706790000623746], 'output': 0.9235161758686227, 'delta': -0.0025811081831942917}]\n",
            "[{'weights': [1.2976880174962777, 0.06389922967033097, -0.7319127170374649], 'output': 0.36601089011614646, 'delta': 0.0849316991642001}, {'weights': [-1.457404486217102, 0.6507310578411868, 0.2191368051614506], 'output': 0.6685654700686255, 'delta': -0.07344114645280346}]\n"
          ]
        }
      ],
      "source": [
        "# Test training backprop algorithm\n",
        "seed(1)\n",
        "dataset = [[2.7810836, 2.550537003, 0],\n",
        "           [1.465489372, 2.362125076, 0],\n",
        "           [3.396561688, 4.400293529, 0],\n",
        "           [1.38807019, 1.850220317, 0],\n",
        "           [3.06407232, 3.005305973, 0],\n",
        "           [7.627531214, 2.759262235, 1],\n",
        "           [5.332441248, 2.088626775, 1],\n",
        "           [6.922596716, 1.77106367, 1],\n",
        "           [8.675418651, -0.242068655, 1],\n",
        "           [7.673756466, 3.508563011, 1]]\n",
        "n_inputs = len(dataset[0]) - 1\n",
        "n_outputs = len(set([row[-1] for row in dataset]))\n",
        "network = initialize_network(n_inputs, 2, n_outputs)\n",
        "train_network(network, dataset, 0.5, 10, n_outputs)\n",
        "for layer in network:\n",
        "  print(layer)"
      ]
    },
    {
      "cell_type": "code",
      "execution_count": 251,
      "metadata": {},
      "outputs": [],
      "source": [
        "from math import exp\n",
        "\n",
        "# Calculate neuron activation for an input\n",
        "def activate(weights, inputs):\n",
        "\tactivation = weights[-1]\n",
        "\tfor i in range(len(weights)-1):\n",
        "\t\tactivation += weights[i] * inputs[i]\n",
        "\treturn activation"
      ]
    },
    {
      "cell_type": "code",
      "execution_count": 252,
      "metadata": {},
      "outputs": [],
      "source": [
        "# Transfer neuron activation\n",
        "def transfer(activation):\n",
        "\treturn 1.0 / (1.0 + exp(-activation))"
      ]
    },
    {
      "cell_type": "code",
      "execution_count": 253,
      "metadata": {
        "id": "VcIc9S8eoqiS"
      },
      "outputs": [],
      "source": [
        "#prediction\n",
        "# Make a prediction with a network\n",
        "def predict(network, row):\n",
        "\toutputs = forward_propagate(network, row)\n",
        "\treturn outputs.index(max(outputs))\n"
      ]
    },
    {
      "cell_type": "code",
      "execution_count": 254,
      "metadata": {},
      "outputs": [],
      "source": [
        "# Forward propagate input to a network output\n",
        "def forward_propagate(network, row):\n",
        "\tinputs = row\n",
        "\tfor layer in network:\n",
        "\t\tnew_inputs = []\n",
        "\t\tfor neuron in layer:\n",
        "\t\t\tactivation = activate(neuron['weights'], inputs)\n",
        "\t\t\tneuron['output'] = transfer(activation)\n",
        "\t\t\tnew_inputs.append(neuron['output'])\n",
        "\t\tinputs = new_inputs\n",
        "\treturn inputs"
      ]
    },
    {
      "cell_type": "code",
      "execution_count": 255,
      "metadata": {},
      "outputs": [],
      "source": [
        "# Make a prediction with a network\n",
        "def predict(network, row):\n",
        "\toutputs = forward_propagate(network, row)\n",
        "\treturn outputs.index(max(outputs))"
      ]
    },
    {
      "cell_type": "code",
      "execution_count": 259,
      "metadata": {
        "colab": {
          "base_uri": "https://localhost:8080/"
        },
        "id": "FtVU9IKFpFzn",
        "outputId": "67962082-b6d0-4ba4-f5fd-0d614c97b562"
      },
      "outputs": [
        {
          "name": "stdout",
          "output_type": "stream",
          "text": [
            "[[{'weights': [-1.1170216470805576, 1.1791237374797112, 0.8420213934082419]}, {'weights': [0.17749791431009276, 0.2437291085458735, 0.36706790000623746]}], [{'weights': [1.2976880174962777, 0.06389922967033097, -0.7319127170374649]}, {'weights': [-1.457404486217102, 0.6507310578411868, 0.2191368051614506]}]]\n",
            "Expected=0, Got=0\n",
            "Expected=0, Got=0\n",
            "Expected=0, Got=0\n",
            "Expected=0, Got=0\n",
            "Expected=0, Got=1\n",
            "Expected=1, Got=1\n",
            "Expected=1, Got=1\n",
            "Expected=1, Got=1\n",
            "Expected=1, Got=1\n",
            "Expected=1, Got=1\n",
            " ==> [Line 33]: \u001b[38;2;203;156;156m[accuracy]\u001b[0m(float) = \u001b[38;2;138;204;79m90.0\u001b[0m\n"
          ]
        }
      ],
      "source": [
        "# Test making predictions with the network\n",
        "dataset = [[3.7810836, 3.550537003, 0],\n",
        "           [0.465489372, 1.362125076, 0],\n",
        "           [1.396561688, 2.400293529, 0],\n",
        "           [0.38807019, 3.850220317, 0],\n",
        "           [2.06407232, 1.005305973, 0],\n",
        "           [10.627531214, 5.759262235, 1],\n",
        "           [15.332441248, 6.088626775, 1],\n",
        "           [7.922596716, 3.77106367, 1],\n",
        "           [5.675418651, 3.242068655, 1],\n",
        "           [12.673756466, 1.508563011, 1]]\n",
        "# network = [[{'weights': [-1.482313569067226, 1.8308790073202204, 1.078381922048799]}, {'weights': [0.23244990332399884, 0.3621998343835864, 0.40289821191094327]}],\n",
        "# [{'weights': [2.5001872433501404, 0.7887233511355132, -1.1026649757805829]}, {'weights': [-2.429350576245497, 0.8357651039198697, 1.0699217181280656]}]]\n",
        "\n",
        "# network = [\n",
        "#   [{'weights': [-1.4688375095432327, 1.850887325439514, 1.0858178629550297]}, {'weights': [0.37711098142462157, -0.0625909894552989, 0.2765123702642716]}],\n",
        "# \t[{'weights': [2.515394649397849, -0.3391927502445985, -0.9671565426390275]}, {'weights': [-2.5584149848484263, 1.0036422106209202, 0.42383086467582715]}]]\n",
        "\n",
        "# append weights\n",
        "results_network = []\n",
        "for layer in network:\n",
        "  results_network.append([{\"weights\": neuron['weights']} for neuron in layer])\n",
        "\n",
        "print(results_network)\n",
        "\n",
        "history = []\n",
        "for row in dataset:\n",
        "  prediction = predict(results_network, row)\n",
        "  print('Expected=%d, Got=%d' % (row[-1], prediction))\n",
        "  history.append((row[-1], prediction))\n",
        "\n",
        "n_correct = len([1 for i in history if i[0] == i[1]])\n",
        "accuracy = n_correct / float(len(history)) * 100.0\n",
        "print(f' ==> [Line 33]: \\033[38;2;203;156;156m[accuracy]\\033[0m({type(accuracy).__name__}) = \\033[38;2;138;204;79m{accuracy}\\033[0m')"
      ]
    },
    {
      "cell_type": "code",
      "execution_count": null,
      "metadata": {},
      "outputs": [],
      "source": []
    }
  ],
  "metadata": {
    "colab": {
      "provenance": []
    },
    "kernelspec": {
      "display_name": "Python 3",
      "name": "python3"
    },
    "language_info": {
      "codemirror_mode": {
        "name": "ipython",
        "version": 3
      },
      "file_extension": ".py",
      "mimetype": "text/x-python",
      "name": "python",
      "nbconvert_exporter": "python",
      "pygments_lexer": "ipython3",
      "version": "3.11.11"
    }
  },
  "nbformat": 4,
  "nbformat_minor": 0
}
