{
 "cells": [
  {
   "cell_type": "code",
   "execution_count": 74,
   "metadata": {},
   "outputs": [],
   "source": [
    "class Node:\n",
    "  def __init__(self, name, parent=None, leftChild=None, rightChild=None):\n",
    "    self.parent = parent\n",
    "    self.leftChild = leftChild\n",
    "    self.rightChild = rightChild\n",
    "    self.name = name\n",
    "\n",
    "  def setChild(self, leftChild, rightChild):\n",
    "    self.leftChild = leftChild\n",
    "    self.rightChild = rightChild"
   ]
  },
  {
   "cell_type": "code",
   "execution_count": 75,
   "metadata": {},
   "outputs": [],
   "source": [
    "root = Node(name=\"D\")\n",
    "m_node = Node(name=\"M\")\n",
    "o_node = Node(name=\"O\")\n",
    "b_node = Node(name=\"B\")\n",
    "a_node = Node(name=\"A\")\n",
    "k_node = Node(name=\"K\")\n",
    "z_node = Node(name=\"Z\")\n",
    "j_node = Node(name=\"J\")\n",
    "n_node = Node(name=\"N\")\n",
    "r_node = Node(name=\"R\")\n",
    "\n",
    "root.setChild(leftChild=m_node, rightChild=o_node)\n",
    "m_node.setChild(leftChild=b_node, rightChild=a_node)\n",
    "a_node.setChild(leftChild=k_node, rightChild=None)\n",
    "o_node.setChild(leftChild=z_node, rightChild=j_node)\n",
    "j_node.setChild(leftChild=n_node, rightChild=r_node)"
   ]
  },
  {
   "cell_type": "code",
   "execution_count": 76,
   "metadata": {},
   "outputs": [],
   "source": [
    "class Queue:\n",
    "  def __init__(self):\n",
    "    self.q = []\n",
    "\n",
    "  def enqueue(self, name):\n",
    "    self.q.append(name)\n",
    "\n",
    "  def dequeue(self):\n",
    "    return self.q.pop(0)"
   ]
  },
  {
   "cell_type": "code",
   "execution_count": 77,
   "metadata": {},
   "outputs": [],
   "source": [
    "def bfs(root: Node, name):\n",
    "  q = Queue()\n",
    "\n",
    "  q.enqueue(root)\n",
    "  found = False\n",
    "\n",
    "  while len(q.q) > 0:\n",
    "    cur_node: Node = q.dequeue()\n",
    "\n",
    "    if cur_node.name == name:\n",
    "      print(cur_node.name, end='')\n",
    "      found = True\n",
    "      break\n",
    "\n",
    "    print(cur_node.name, end=' -> ')\n",
    "    if cur_node.leftChild is not None:\n",
    "      q.enqueue(cur_node.leftChild)\n",
    "\n",
    "    if cur_node.rightChild is not None:\n",
    "      q.enqueue(cur_node.rightChild)\n",
    "\n",
    "  return found"
   ]
  },
  {
   "cell_type": "code",
   "execution_count": 78,
   "metadata": {},
   "outputs": [],
   "source": [
    "class Stack:\n",
    "  def __init__(self):\n",
    "    self.q = []\n",
    "\n",
    "  def enqueue(self, name):\n",
    "    self.q.append(name)\n",
    "\n",
    "  def dequeue(self):\n",
    "    return self.q.pop()"
   ]
  },
  {
   "cell_type": "code",
   "execution_count": 79,
   "metadata": {},
   "outputs": [],
   "source": [
    "def dfs(root: Node, name):\n",
    "  s = Stack()\n",
    "\n",
    "  s.enqueue(root)\n",
    "  found = False\n",
    "\n",
    "  while len(s.q) > 0:\n",
    "    cur_node: Node = s.dequeue()\n",
    "\n",
    "    if cur_node.name == name:\n",
    "      print(cur_node.name, end='')\n",
    "      found = True\n",
    "      break\n",
    "\n",
    "    print(cur_node.name, end=' -> ')\n",
    "    if cur_node.leftChild is not None:\n",
    "      s.enqueue(cur_node.leftChild)\n",
    "\n",
    "    if cur_node.rightChild is not None:\n",
    "      s.enqueue(cur_node.rightChild)\n",
    "\n",
    "  return found"
   ]
  },
  {
   "cell_type": "code",
   "execution_count": 85,
   "metadata": {},
   "outputs": [
    {
     "name": "stdout",
     "output_type": "stream",
     "text": [
      "BFS(R) = D -> M -> O -> B -> A -> Z -> J -> K -> N -> R (Found =  True)\n",
      "DFS(R) = D -> O -> J -> R (Found =  True)\n"
     ]
    }
   ],
   "source": [
    "print(\"BFS(R) = \", end='')\n",
    "print(\" (Found = \", bfs(root, 'R'), end=')\\n')\n",
    "print(\"DFS(R) = \", end='')\n",
    "print(\" (Found = \", dfs(root, 'R'), end=')\\n')"
   ]
  },
  {
   "cell_type": "code",
   "execution_count": 86,
   "metadata": {},
   "outputs": [
    {
     "name": "stdout",
     "output_type": "stream",
     "text": [
      "BFS(A) = D -> M -> O -> B -> A (Found =  True)\n",
      "DFS(A) = D -> O -> J -> R -> N -> Z -> M -> A (Found =  True)\n"
     ]
    }
   ],
   "source": [
    "print(\"BFS(A) = \", end='')\n",
    "print(\" (Found = \", bfs(root, 'A'), end=')\\n')\n",
    "print(\"DFS(A) = \", end='')\n",
    "print(\" (Found = \", dfs(root, 'A'), end=')\\n')"
   ]
  },
  {
   "cell_type": "code",
   "execution_count": 87,
   "metadata": {},
   "outputs": [
    {
     "name": "stdout",
     "output_type": "stream",
     "text": [
      "BFS(P) = D -> M -> O -> B -> A -> Z -> J -> K -> N -> R ->  (Found =  False)\n",
      "DFS(P) = D -> O -> J -> R -> N -> Z -> M -> A -> K -> B ->  (Found =  False)\n"
     ]
    }
   ],
   "source": [
    "print(\"BFS(P) = \", end='')\n",
    "print(\" (Found = \", bfs(root, 'P'), end=')\\n')\n",
    "print(\"DFS(P) = \", end='')\n",
    "print(\" (Found = \", dfs(root, 'P'), end=')\\n')"
   ]
  },
  {
   "cell_type": "code",
   "execution_count": null,
   "metadata": {},
   "outputs": [],
   "source": []
  }
 ],
 "metadata": {
  "kernelspec": {
   "display_name": "base",
   "language": "python",
   "name": "python3"
  },
  "language_info": {
   "codemirror_mode": {
    "name": "ipython",
    "version": 3
   },
   "file_extension": ".py",
   "mimetype": "text/x-python",
   "name": "python",
   "nbconvert_exporter": "python",
   "pygments_lexer": "ipython3",
   "version": "3.12.3"
  }
 },
 "nbformat": 4,
 "nbformat_minor": 2
}
